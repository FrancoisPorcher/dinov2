{
 "cells": [
  {
   "cell_type": "code",
   "execution_count": null,
   "metadata": {},
   "outputs": [],
   "source": [
    "import os\n",
    "import torch\n",
    "import torchvision.datasets as datasets\n",
    "from torchvision.transforms.v2 import Compose, RandomHorizontalFlip, ToDtype, Lambda, Resize\n",
    "from torchvision.transforms.v2.functional import pil_to_tensor\n",
    "from einops import rearrange\n",
    "import numpy as np\n",
    "import matplotlib.pyplot as plt\n",
    "from sklearn.decomposition import PCA\n",
    "\n",
    "# use GPU if available\n",
    "device = torch.device('cuda' if torch.cuda.is_available() else 'cpu')\n"
   ]
  },
  {
   "cell_type": "code",
   "execution_count": null,
   "metadata": {},
   "outputs": [],
   "source": [
    "resolution = 252\n",
    "\n",
    "def get_train_transform(resolution=resolution):\n",
    "    return Compose([\n",
    "        pil_to_tensor,\n",
    "        Resize((resolution, resolution)),\n",
    "        RandomHorizontalFlip(p=0.5),\n",
    "        ToDtype(torch.float32),\n",
    "        Lambda(lambda t: t / 255.0),\n",
    "    ])\n",
    "\n",
    "model = torch.hub.load('facebookresearch/dinov2', 'dinov2_vitb14')\n",
    "model.eval()\n",
    "model.to(device)\n",
    "\n",
    "imagenet_dir = '/datasets01/imagenet_full_size/061417'\n",
    "transform_train = get_train_transform()\n",
    "dataset_train = datasets.ImageFolder(imagenet_dir, transform=transform_train)\n"
   ]
  },
  {
   "cell_type": "code",
   "execution_count": null,
   "metadata": {},
   "outputs": [],
   "source": [
    "idx = 3\n",
    "image, label = dataset_train[idx]\n",
    "image_rgb = rearrange(image, 'c h w -> h w c')\n",
    "\n",
    "# prepare image for the model\n",
    "image_batch = image.unsqueeze(0).to(device)\n",
    "outputs = model.forward_features(image_batch)\n",
    "x_norm_patchtokens = outputs['x_norm_patchtokens'].cpu().squeeze(0).numpy()\n",
    "\n",
    "patch_size = 14\n",
    "num_tokens, d = x_norm_patchtokens.shape\n",
    "H = resolution // patch_size\n",
    "W = resolution // patch_size\n"
   ]
  },
  {
   "cell_type": "code",
   "execution_count": null,
   "metadata": {},
   "outputs": [],
   "source": [
    "# background filtering with 1 PCA component\n",
    "pca_background = PCA(n_components=1)\n",
    "background = pca_background.fit_transform(x_norm_patchtokens)\n",
    "background = rearrange(background, '(H W) d -> H W d', H=H, W=W)\n",
    "background = (background - background.min()) / (background.max() - background.min())\n",
    "mask = background < 0.55\n",
    "background[mask] = 0.0\n",
    "\n",
    "# RGB visualization with 3 PCA components\n",
    "pca_rgb = PCA(n_components=3)\n",
    "colors = pca_rgb.fit_transform(x_norm_patchtokens)\n",
    "colors = rearrange(colors, '(H W) d -> H W d', H=H, W=W)\n",
    "colors = (colors - colors.min()) / (colors.max() - colors.min())\n",
    "mask_repeated = np.repeat(mask, 3, axis=-1)\n",
    "colors[mask_repeated] = 0.0\n"
   ]
  },
  {
   "cell_type": "code",
   "execution_count": null,
   "metadata": {},
   "outputs": [],
   "source": [
    "fig, axes = plt.subplots(1, 3, figsize=(15, 5), constrained_layout=True)\n",
    "\n",
    "im0 = axes[0].imshow(image_rgb)\n",
    "axes[0].set_title('Original')\n",
    "axes[0].axis('off')\n",
    "\n",
    "im1 = axes[1].imshow(background.squeeze(-1), cmap='gray', vmin=0, vmax=1)\n",
    "axes[1].set_title('Background Filtered (PCA=1)')\n",
    "axes[1].axis('off')\n",
    "fig.colorbar(im1, ax=axes[1], fraction=0.046, pad=0.04)\n",
    "\n",
    "im2 = axes[2].imshow(colors, vmin=0, vmax=1)\n",
    "axes[2].set_title('RGB (PCA=3)')\n",
    "axes[2].axis('off')\n",
    "fig.colorbar(im2, ax=axes[2], fraction=0.046, pad=0.04)\n",
    "\n",
    "plt.show()\n"
   ]
  }
 ],
 "metadata": {
  "kernelspec": {
   "display_name": "dinov2",
   "language": "python",
   "name": "python3"
  },
  "language_info": {
   "codemirror_mode": {
    "name": "ipython",
    "version": 3
   },
   "file_extension": ".py",
   "mimetype": "text/x-python",
   "name": "python",
   "nbconvert_exporter": "python",
   "pygments_lexer": "ipython3",
   "version": "3.9.23"
  }
 },
 "nbformat": 4,
 "nbformat_minor": 5
}