{
 "cells": [
  {
   "cell_type": "code",
   "execution_count": null,
   "metadata": {},
   "outputs": [],
   "source": [
    "# Copyright (c) Meta Platforms, Inc. and affiliates."
   ]
  },
  {
   "cell_type": "markdown",
   "metadata": {},
   "source": [
    "# Extract ImageNet embeddings with DINOv2"
   ]
  },
  {
   "cell_type": "code",
   "execution_count": null,
   "metadata": {},
   "outputs": [],
   "source": [
    "import os\n",
    "from pathlib import Path\n",
    "import torch\n",
    "from torch.utils.data import DataLoader\n",
    "from dinov2.hub import dinov2_vitb14\n",
    "from dinov2.data.datasets import ImageNet\n",
    "from dinov2.data.transforms import make_classification_eval_transform\n"
   ]
  },
  {
   "cell_type": "code",
   "execution_count": null,
   "metadata": {},
   "outputs": [],
   "source": [
    "imagenet_root = '<FIXME>'  # Path to ImageNet root\n",
    "extra_root = imagenet_root\n",
    "output_dir = Path('features_output')\n",
    "output_dir.mkdir(parents=True, exist_ok=True)\n",
    "\n",
    "transform = make_classification_eval_transform()\n",
    "dataset = ImageNet(split=ImageNet.Split.VAL, root=imagenet_root, extra=extra_root, transform=transform)\n",
    "dataloader = DataLoader(dataset, batch_size=64, num_workers=4, shuffle=False)\n"
   ]
  },
  {
   "cell_type": "code",
   "execution_count": null,
   "metadata": {},
   "outputs": [],
   "source": [
    "device = 'cuda' if torch.cuda.is_available() else 'cpu'\n",
    "model = dinov2_vitb14(pretrained=True)\n",
    "model.to(device)\n",
    "model.eval()\n"
   ]
  },
  {
   "cell_type": "code",
   "execution_count": null,
   "metadata": {},
   "outputs": [],
   "source": [
    "features = []\n",
    "labels = []\n",
    "with torch.no_grad():\n",
    "    for imgs, target in dataloader:\n",
    "        imgs = imgs.to(device)\n",
    "        feats = model(imgs)\n",
    "        features.append(feats.cpu())\n",
    "        labels.append(target)\n",
    "features = torch.cat(features)\n",
    "labels = torch.cat(labels)\n",
    "torch.save({'features': features, 'labels': labels}, output_dir / 'imagenet_features.pt')\n"
   ]
  }
 ],
 "metadata": {
  "kernelspec": {
   "display_name": "Python 3",
   "language": "python",
   "name": "python3"
  },
  "language_info": {
   "name": "python",
   "version": "3"
  }
 },
 "nbformat": 4,
 "nbformat_minor": 5
}